{
 "cells": [
  {
   "cell_type": "markdown",
   "id": "e72ea01d",
   "metadata": {},
   "source": [
    "# Strings "
   ]
  },
  {
   "cell_type": "code",
   "execution_count": 7,
   "id": "22661a5b",
   "metadata": {},
   "outputs": [
    {
     "name": "stdout",
     "output_type": "stream",
     "text": [
      " Harry\"s and \n",
      "       Harry's \n",
      "<class 'str'>\n"
     ]
    }
   ],
   "source": [
    "#if you want to print \" then use '''\n",
    "a = ''' Harry\"s and \n",
    "       Harry's '''\n",
    "print(a)\n",
    "print(type(a))\n"
   ]
  },
  {
   "cell_type": "markdown",
   "id": "56fd9dc5",
   "metadata": {},
   "source": [
    "# Slicing"
   ]
  },
  {
   "cell_type": "code",
   "execution_count": 24,
   "id": "54f7e108",
   "metadata": {},
   "outputs": [
    {
     "name": "stdout",
     "output_type": "stream",
     "text": [
      "Good Morning, Krishana\n",
      "4th Letter of Krishana is h\n",
      "Kri\n",
      "Krish\n",
      "shana\n",
      "han\n",
      "02468\n",
      "951\n"
     ]
    }
   ],
   "source": [
    "greeting = \"Good Morning, \"\n",
    "name = \"Krishana\"\n",
    "\n",
    "# Concatenating two strings\n",
    "ans = greeting + name\n",
    "print(ans)\n",
    "\n",
    "print(\"4th Letter of Krishana is\",name[4])\n",
    "# name[3] = \"d\"  <-- 'str' object does not support item assignment\n",
    "\n",
    "print(name[0:3]) # it's tooks the value from 0 to 2 not include last digit\n",
    "print(name[:5]) # is same as name[0:7]\n",
    "print(name[3:]) # is same as name[3:7]\n",
    "print(name[-4:-1]) # is same is name[1:4]\n",
    "\n",
    "name = \"0123456789\"\n",
    "print(name[0::2]) # Tooks a value from 0 to 9 whith a gap of 2\n",
    "print(name[-1::-4]) # Tooks the value from last  num to frist number whith a gap of 4  "
   ]
  },
  {
   "cell_type": "markdown",
   "id": "87770138",
   "metadata": {},
   "source": [
    "# String Functions"
   ]
  },
  {
   "cell_type": "code",
   "execution_count": 28,
   "id": "0eb2ebf2",
   "metadata": {},
   "outputs": [
    {
     "name": "stdout",
     "output_type": "stream",
     "text": [
      "Total numbers letters 93\n",
      "Is the story end with notes ? False\n",
      "How amny times letters c comes 2\n",
      "Once upon a time there was a youtuber named harry who uploaded python course with notes harry\n",
      "5\n",
      "once upon a time there was a youtuber named CodeWithHarry who uploaded python course with notes CodeWithHarry\n"
     ]
    }
   ],
   "source": [
    "story = \"once upon a time there was a youtuber named Harry who uploaded python course with notes Harry\"\n",
    "\n",
    "#Total numbers letters \n",
    "print(\"Total numbers letters\",len(story))\n",
    "\n",
    "#Is the story end with notes ?\n",
    "print(\"Is the story end with notes ?\",story.endswith(\"notes\"))\n",
    "\n",
    "# How amny times letters c comes\n",
    "print(\"How amny times letters c comes\",story.count(\"c\"))\n",
    "\n",
    "# Capital frist word of story\n",
    "print(story.capitalize())\n",
    "\n",
    "# Finding the index of given word\n",
    "print(story.find(\"upon\"))\n",
    "\n",
    "# Replacement of word\n",
    "print(story.replace(\"Harry\", \"CodeWithHarry\"))\n",
    " "
   ]
  },
  {
   "cell_type": "markdown",
   "id": "6c3c6127",
   "metadata": {},
   "source": [
    "# Escape sequence "
   ]
  },
  {
   "cell_type": "code",
   "execution_count": 48,
   "id": "4d0f60bb",
   "metadata": {},
   "outputs": [
    {
     "name": "stdout",
     "output_type": "stream",
     "text": [
      "Harry is good.\n",
      "He\tis very good.\n"
     ]
    }
   ],
   "source": [
    "# \\n for new line\n",
    "# \\t for Tab \n",
    "story = \"Harry is good.\\nHe\\tis very good.\"\n",
    "print(story)"
   ]
  },
  {
   "cell_type": "markdown",
   "id": "acfb3551",
   "metadata": {},
   "source": [
    "# Examples "
   ]
  },
  {
   "cell_type": "code",
   "execution_count": 37,
   "id": "b4083459",
   "metadata": {},
   "outputs": [
    {
     "name": "stdout",
     "output_type": "stream",
     "text": [
      "Enter your name\n",
      "Fenil Khunt\n",
      "Good Afternoon, Fenil Khunt\n"
     ]
    }
   ],
   "source": [
    "#Welcome Greetings \n",
    "name = input(\"Enter your name\\n\")\n",
    "print(\"Good Afternoon, \" + name)"
   ]
  },
  {
   "cell_type": "code",
   "execution_count": 41,
   "id": "1805e323",
   "metadata": {},
   "outputs": [
    {
     "name": "stdout",
     "output_type": "stream",
     "text": [
      "This is a string with double spaces .\n"
     ]
    }
   ],
   "source": [
    "st = \"This is  a string  with double  spaces  .\"\n",
    "# Replace double space with single space \n",
    "st = st.replace(\"  \", \" \")\n",
    "print(st)"
   ]
  },
  {
   "cell_type": "code",
   "execution_count": 44,
   "id": "f329b2cc",
   "metadata": {},
   "outputs": [
    {
     "name": "stdout",
     "output_type": "stream",
     "text": [
      "16\n",
      "8\n"
     ]
    }
   ],
   "source": [
    "st = \"This is 8 string  with double spaces\"\n",
    "# Find the index of double space\n",
    "doubleSpaces = st.find(\"  \")\n",
    "print(doubleSpaces)\n",
    "print(st.find(\"8\"))"
   ]
  },
  {
   "cell_type": "code",
   "execution_count": 46,
   "id": "409983b1",
   "metadata": {},
   "outputs": [
    {
     "name": "stdout",
     "output_type": "stream",
     "text": [
      "Enter Your Name\n",
      "KHUNT FENIL VITTHALBHAI\n",
      "Enter Date\n",
      "23\n",
      "Dear KHUNT FENIL VITTHALBHAI,\n",
      "Greetings from ABC coding house. I am happy to tell you about your selection\n",
      "You are selected!\n",
      "Have a great day ahead!\n",
      "Thanks and regards,\n",
      "Harry\n",
      "Date: 23\n",
      "\n"
     ]
    }
   ],
   "source": [
    "letter = '''Dear <|NAME|>,\n",
    "Greetings from ABC coding house. I am happy to tell you about your selection\n",
    "You are selected!\n",
    "Have a great day ahead!\n",
    "Thanks and regards,\n",
    "Harry\n",
    "Date: <|DATE|>\n",
    "'''\n",
    "name = input(\"Enter Your Name\\n\")\n",
    "date = input(\"Enter Date\\n\")\n",
    "letter = letter.replace(\"<|NAME|>\", name)\n",
    "letter = letter.replace(\"<|DATE|>\", date)\n",
    "print(letter)"
   ]
  },
  {
   "cell_type": "code",
   "execution_count": 47,
   "id": "fcb2ac43",
   "metadata": {},
   "outputs": [
    {
     "name": "stdout",
     "output_type": "stream",
     "text": [
      "Dear Harry, This Python course is nice! Thanks!\n",
      "Dear Harry,\n",
      "\tThis Python course is nice!\n",
      "Thanks!\n"
     ]
    }
   ],
   "source": [
    "letter = \"Dear Harry, This Python course is nice! Thanks!\"\n",
    "print(letter)\n",
    "\n",
    "formatted_letter = \"Dear Harry,\\n\\tThis Python course is nice!\\nThanks!\"\n",
    "print(formatted_letter)"
   ]
  }
 ],
 "metadata": {
  "kernelspec": {
   "display_name": "Python 3 (ipykernel)",
   "language": "python",
   "name": "python3"
  },
  "language_info": {
   "codemirror_mode": {
    "name": "ipython",
    "version": 3
   },
   "file_extension": ".py",
   "mimetype": "text/x-python",
   "name": "python",
   "nbconvert_exporter": "python",
   "pygments_lexer": "ipython3",
   "version": "3.9.7"
  }
 },
 "nbformat": 4,
 "nbformat_minor": 5
}
