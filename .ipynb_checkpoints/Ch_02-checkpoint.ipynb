{
 "cells": [
  {
   "cell_type": "markdown",
   "id": "ad8f8630",
   "metadata": {},
   "source": [
    "Variables"
   ]
  },
  {
   "cell_type": "code",
   "execution_count": 2,
   "id": "cc9375f2",
   "metadata": {},
   "outputs": [
    {
     "name": "stdout",
     "output_type": "stream",
     "text": [
      "Ramu\n",
      "365\n",
      "23.05\n",
      "True\n",
      "<class 'str'>\n",
      "<class 'int'>\n",
      "<class 'float'>\n",
      "<class 'bool'>\n"
     ]
    }
   ],
   "source": [
    "a = \"Ramu\"\n",
    "b = 365\n",
    "c = 23.05\n",
    "d = True\n",
    "\n",
    "# Printing the variables\n",
    "print(a)\n",
    "print(b)\n",
    "print(c)\n",
    "print(d)\n",
    "\n",
    "# Printing the type of variables\n",
    "print(type(a))\n",
    "print(type(b))\n",
    "print(type(c))\n",
    "print(type(d))"
   ]
  },
  {
   "cell_type": "code",
   "execution_count": null,
   "id": "e59f2502",
   "metadata": {},
   "outputs": [],
   "source": [
    "Operators"
   ]
  },
  {
   "cell_type": "code",
   "execution_count": 14,
   "id": "33ddd780",
   "metadata": {},
   "outputs": [
    {
     "name": "stdout",
     "output_type": "stream",
     "text": [
      "The value of 3+4 is  7\n",
      "The value of 3-4 is  -1\n",
      "The value of 3*4 is  12\n",
      "The value of 3/4 is  0.75\n",
      "The value of a -= 12 is  28\n",
      "The value of b *= 12 is  480\n",
      "The value of c /= 12 is  3.3333333333333335\n",
      "14<=7 is False  condition\n",
      "14>=7 is True  condition\n",
      "14<7 is False  condition\n",
      "14>7 is True  condition\n",
      "14==7 is False  condition\n",
      "14!=7 is True  condition\n",
      "The value of bool1 and bool2 is False\n",
      "The value of bool1 or bool2 is True\n",
      "The value of not bool2 is True\n"
     ]
    }
   ],
   "source": [
    "# Arithmetic Operators\n",
    "print(\"The value of 3+4 is \", 3+4)\n",
    "print(\"The value of 3-4 is \", 3-4)\n",
    "print(\"The value of 3*4 is \", 3*4)\n",
    "print(\"The value of 3/4 is \", 3/4)\n",
    "\n",
    "# Assignment Operators\n",
    "a = b = c = 40\n",
    "a -= 12\n",
    "b *= 12\n",
    "c /= 12\n",
    "print(\"The value of a -= 12 is \",a)\n",
    "print(\"The value of b *= 12 is \",b)\n",
    "print(\"The value of c /= 12 is \",c)\n",
    "\n",
    "# Comparison Operators\n",
    "print(\"14<=7 is\",(14<=7),\" condition\")\n",
    "print(\"14>=7 is\",(14>=7),\" condition\")\n",
    "print(\"14<7 is\",(14<7),\" condition\")\n",
    "print(\"14>7 is\",(14>7),\" condition\")\n",
    "print(\"14==7 is\",(14==7),\" condition\") # always equal ==\n",
    "print(\"14!=7 is\",(14!=7),\" condition\") # not equal !=\n",
    "\n",
    "# Logical Operators\n",
    "bool1 = True\n",
    "bool2 = False\n",
    "\n",
    "print(\"The value of bool1 and bool2 is\", (bool1 and bool2)) #and = both True\n",
    "print(\"The value of bool1 or bool2 is\", (bool1 or bool2)) # or = one of them true\n",
    "print(\"The value of not bool2 is\", (not bool2))"
   ]
  },
  {
   "cell_type": "code",
   "execution_count": null,
   "id": "43d6e3ad",
   "metadata": {},
   "outputs": [],
   "source": []
  }
 ],
 "metadata": {
  "kernelspec": {
   "display_name": "Python 3 (ipykernel)",
   "language": "python",
   "name": "python3"
  },
  "language_info": {
   "codemirror_mode": {
    "name": "ipython",
    "version": 3
   },
   "file_extension": ".py",
   "mimetype": "text/x-python",
   "name": "python",
   "nbconvert_exporter": "python",
   "pygments_lexer": "ipython3",
   "version": "3.9.7"
  }
 },
 "nbformat": 4,
 "nbformat_minor": 5
}
