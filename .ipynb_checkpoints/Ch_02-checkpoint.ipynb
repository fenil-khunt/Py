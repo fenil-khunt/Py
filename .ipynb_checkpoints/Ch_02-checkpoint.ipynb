{
 "cells": [
  {
   "cell_type": "markdown",
   "id": "ad8f8630",
   "metadata": {},
   "source": [
    "# Variables"
   ]
  },
  {
   "cell_type": "code",
   "execution_count": 2,
   "id": "cc9375f2",
   "metadata": {},
   "outputs": [
    {
     "name": "stdout",
     "output_type": "stream",
     "text": [
      "Ramu\n",
      "365\n",
      "23.05\n",
      "True\n",
      "<class 'str'>\n",
      "<class 'int'>\n",
      "<class 'float'>\n",
      "<class 'bool'>\n"
     ]
    }
   ],
   "source": [
    "a = \"Ramu\"\n",
    "b = 365\n",
    "c = 23.05\n",
    "d = True\n",
    "\n",
    "# Printing the variables\n",
    "print(a)\n",
    "print(b)\n",
    "print(c)\n",
    "print(d)\n",
    "\n",
    "# Printing the type of variables\n",
    "print(type(a))\n",
    "print(type(b))\n",
    "print(type(c))\n",
    "print(type(d))"
   ]
  },
  {
   "cell_type": "markdown",
   "id": "0958221b",
   "metadata": {},
   "source": [
    "# Operators"
   ]
  },
  {
   "cell_type": "code",
   "execution_count": 24,
   "id": "7ff48584",
   "metadata": {},
   "outputs": [
    {
     "name": "stdout",
     "output_type": "stream",
     "text": [
      "The value of 3+4 is  7\n",
      "The value of 3-4 is  -1\n",
      "The value of 3*4 is  12\n",
      "The value of 3/4 is  0.75\n",
      "The value of 3%4 is  2\n",
      "The value of a -= 12 is  28\n",
      "The value of b *= 12 is  480\n",
      "The value of c /= 12 is  3.3333333333333335\n",
      "14<=7 is False  condition\n",
      "14>=7 is True  condition\n",
      "14<7 is False  condition\n",
      "14>7 is True  condition\n",
      "14==7 is False  condition\n",
      "14!=7 is True  condition\n",
      "The value of bool1 and bool2 is False\n",
      "The value of bool1 or bool2 is True\n",
      "The value of not bool2 is True\n"
     ]
    }
   ],
   "source": [
    "# Arithmetic Operators\n",
    "print(\"The value of 3+4 is \", 3+4)\n",
    "print(\"The value of 3-4 is \", 3-4)\n",
    "print(\"The value of 3*4 is \", 3*4)\n",
    "print(\"The value of 3/4 is \", 3/4)\n",
    "print(\"The value of 3%4 is \", 12%5) #reminder \n",
    "\n",
    "# Assignment Operators\n",
    "a = b = c = 40\n",
    "a -= 12\n",
    "b *= 12\n",
    "c /= 12\n",
    "print(\"The value of a -= 12 is \",a)\n",
    "print(\"The value of b *= 12 is \",b)\n",
    "print(\"The value of c /= 12 is \",c)\n",
    "\n",
    "# Comparison Operators\n",
    "print(\"14<=7 is\",(14<=7),\" condition\")\n",
    "print(\"14>=7 is\",(14>=7),\" condition\")\n",
    "print(\"14<7 is\",(14<7),\" condition\")\n",
    "print(\"14>7 is\",(14>7),\" condition\")\n",
    "print(\"14==7 is\",(14==7),\" condition\") # always equal ==\n",
    "print(\"14!=7 is\",(14!=7),\" condition\") # not equal !=\n",
    "\n",
    "# Logical Operators\n",
    "bool1 = True\n",
    "bool2 = False\n",
    "\n",
    "print(\"The value of bool1 and bool2 is\", (bool1 and bool2)) #and = both True\n",
    "print(\"The value of bool1 or bool2 is\", (bool1 or bool2)) # or = one of them true\n",
    "print(\"The value of not bool2 is\", (not bool2))"
   ]
  },
  {
   "cell_type": "markdown",
   "id": "fe10c274",
   "metadata": {},
   "source": [
    "# Typecasting"
   ]
  },
  {
   "cell_type": "code",
   "execution_count": 18,
   "id": "5ffaf9e9",
   "metadata": {},
   "outputs": [
    {
     "name": "stdout",
     "output_type": "stream",
     "text": [
      "<class 'str'>\n",
      "<class 'int'>\n",
      "3539\n"
     ]
    }
   ],
   "source": [
    "a = \"3534\"\n",
    "print(type(a))\n",
    "\n",
    "# converting str to int\n",
    "a = int(a) \n",
    "print(type(a))\n",
    "print(a + 5)"
   ]
  },
  {
   "cell_type": "markdown",
   "id": "cbf51c45",
   "metadata": {},
   "source": [
    "# Input from user"
   ]
  },
  {
   "cell_type": "code",
   "execution_count": 22,
   "id": "82ac13b6",
   "metadata": {},
   "outputs": [
    {
     "name": "stdout",
     "output_type": "stream",
     "text": [
      "Enter a number: 10\n",
      "<class 'str'>\n",
      "<class 'int'>\n",
      "Enter a number: 12\n",
      "<class 'int'>\n"
     ]
    }
   ],
   "source": [
    "a = input(\"Enter a number: \")\n",
    "print(type(a))\n",
    "a = int(a)\n",
    "print(type(a))\n",
    "\n",
    "# take integer input\n",
    "b = int(input(\"Enter a number: \"))\n",
    "print(type(b))"
   ]
  },
  {
   "cell_type": "markdown",
   "id": "3e8e7861",
   "metadata": {},
   "source": []
  }
 ],
 "metadata": {
  "kernelspec": {
   "display_name": "Python 3 (ipykernel)",
   "language": "python",
   "name": "python3"
  },
  "language_info": {
   "codemirror_mode": {
    "name": "ipython",
    "version": 3
   },
   "file_extension": ".py",
   "mimetype": "text/x-python",
   "name": "python",
   "nbconvert_exporter": "python",
   "pygments_lexer": "ipython3",
   "version": "3.9.7"
  }
 },
 "nbformat": 4,
 "nbformat_minor": 5
}
